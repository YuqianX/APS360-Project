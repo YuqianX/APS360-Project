{
  "nbformat": 4,
  "nbformat_minor": 0,
  "metadata": {
    "colab": {
      "name": "Training",
      "provenance": [],
      "collapsed_sections": []
    },
    "kernelspec": {
      "name": "python3",
      "display_name": "Python 3"
    },
    "accelerator": "GPU",
    "widgets": {
      "application/vnd.jupyter.widget-state+json": {
        "9e296358689143e69761056f5e38feb3": {
          "model_module": "@jupyter-widgets/controls",
          "model_name": "HBoxModel",
          "state": {
            "_view_name": "HBoxView",
            "_dom_classes": [],
            "_model_name": "HBoxModel",
            "_view_module": "@jupyter-widgets/controls",
            "_model_module_version": "1.5.0",
            "_view_count": null,
            "_view_module_version": "1.5.0",
            "box_style": "",
            "layout": "IPY_MODEL_346988a5de3f4662a3f7531e1ca58276",
            "_model_module": "@jupyter-widgets/controls",
            "children": [
              "IPY_MODEL_87d880ac3bc74b599f05d5e6edf381af",
              "IPY_MODEL_8a81f65c51a942e0bdc0b6e3a18cb1f1"
            ]
          }
        },
        "346988a5de3f4662a3f7531e1ca58276": {
          "model_module": "@jupyter-widgets/base",
          "model_name": "LayoutModel",
          "state": {
            "_view_name": "LayoutView",
            "grid_template_rows": null,
            "right": null,
            "justify_content": null,
            "_view_module": "@jupyter-widgets/base",
            "overflow": null,
            "_model_module_version": "1.2.0",
            "_view_count": null,
            "flex_flow": null,
            "width": null,
            "min_width": null,
            "border": null,
            "align_items": null,
            "bottom": null,
            "_model_module": "@jupyter-widgets/base",
            "top": null,
            "grid_column": null,
            "overflow_y": null,
            "overflow_x": null,
            "grid_auto_flow": null,
            "grid_area": null,
            "grid_template_columns": null,
            "flex": null,
            "_model_name": "LayoutModel",
            "justify_items": null,
            "grid_row": null,
            "max_height": null,
            "align_content": null,
            "visibility": null,
            "align_self": null,
            "height": null,
            "min_height": null,
            "padding": null,
            "grid_auto_rows": null,
            "grid_gap": null,
            "max_width": null,
            "order": null,
            "_view_module_version": "1.2.0",
            "grid_template_areas": null,
            "object_position": null,
            "object_fit": null,
            "grid_auto_columns": null,
            "margin": null,
            "display": null,
            "left": null
          }
        },
        "87d880ac3bc74b599f05d5e6edf381af": {
          "model_module": "@jupyter-widgets/controls",
          "model_name": "FloatProgressModel",
          "state": {
            "_view_name": "ProgressView",
            "style": "IPY_MODEL_26ec522addbc4bf7815cfa95051403d0",
            "_dom_classes": [],
            "description": "100%",
            "_model_name": "FloatProgressModel",
            "bar_style": "success",
            "max": 244418560,
            "_view_module": "@jupyter-widgets/controls",
            "_model_module_version": "1.5.0",
            "value": 244418560,
            "_view_count": null,
            "_view_module_version": "1.5.0",
            "orientation": "horizontal",
            "min": 0,
            "description_tooltip": null,
            "_model_module": "@jupyter-widgets/controls",
            "layout": "IPY_MODEL_662f5718322a4ea6a3ff83fce2d8a9a9"
          }
        },
        "8a81f65c51a942e0bdc0b6e3a18cb1f1": {
          "model_module": "@jupyter-widgets/controls",
          "model_name": "HTMLModel",
          "state": {
            "_view_name": "HTMLView",
            "style": "IPY_MODEL_bd81dbc8bd8446b1b4039b9229fdaec2",
            "_dom_classes": [],
            "description": "",
            "_model_name": "HTMLModel",
            "placeholder": "​",
            "_view_module": "@jupyter-widgets/controls",
            "_model_module_version": "1.5.0",
            "value": " 233M/233M [01:26&lt;00:00, 2.82MB/s]",
            "_view_count": null,
            "_view_module_version": "1.5.0",
            "description_tooltip": null,
            "_model_module": "@jupyter-widgets/controls",
            "layout": "IPY_MODEL_454c615b7cf3493cac8127fddb11b99d"
          }
        },
        "26ec522addbc4bf7815cfa95051403d0": {
          "model_module": "@jupyter-widgets/controls",
          "model_name": "ProgressStyleModel",
          "state": {
            "_view_name": "StyleView",
            "_model_name": "ProgressStyleModel",
            "description_width": "initial",
            "_view_module": "@jupyter-widgets/base",
            "_model_module_version": "1.5.0",
            "_view_count": null,
            "_view_module_version": "1.2.0",
            "bar_color": null,
            "_model_module": "@jupyter-widgets/controls"
          }
        },
        "662f5718322a4ea6a3ff83fce2d8a9a9": {
          "model_module": "@jupyter-widgets/base",
          "model_name": "LayoutModel",
          "state": {
            "_view_name": "LayoutView",
            "grid_template_rows": null,
            "right": null,
            "justify_content": null,
            "_view_module": "@jupyter-widgets/base",
            "overflow": null,
            "_model_module_version": "1.2.0",
            "_view_count": null,
            "flex_flow": null,
            "width": null,
            "min_width": null,
            "border": null,
            "align_items": null,
            "bottom": null,
            "_model_module": "@jupyter-widgets/base",
            "top": null,
            "grid_column": null,
            "overflow_y": null,
            "overflow_x": null,
            "grid_auto_flow": null,
            "grid_area": null,
            "grid_template_columns": null,
            "flex": null,
            "_model_name": "LayoutModel",
            "justify_items": null,
            "grid_row": null,
            "max_height": null,
            "align_content": null,
            "visibility": null,
            "align_self": null,
            "height": null,
            "min_height": null,
            "padding": null,
            "grid_auto_rows": null,
            "grid_gap": null,
            "max_width": null,
            "order": null,
            "_view_module_version": "1.2.0",
            "grid_template_areas": null,
            "object_position": null,
            "object_fit": null,
            "grid_auto_columns": null,
            "margin": null,
            "display": null,
            "left": null
          }
        },
        "bd81dbc8bd8446b1b4039b9229fdaec2": {
          "model_module": "@jupyter-widgets/controls",
          "model_name": "DescriptionStyleModel",
          "state": {
            "_view_name": "StyleView",
            "_model_name": "DescriptionStyleModel",
            "description_width": "",
            "_view_module": "@jupyter-widgets/base",
            "_model_module_version": "1.5.0",
            "_view_count": null,
            "_view_module_version": "1.2.0",
            "_model_module": "@jupyter-widgets/controls"
          }
        },
        "454c615b7cf3493cac8127fddb11b99d": {
          "model_module": "@jupyter-widgets/base",
          "model_name": "LayoutModel",
          "state": {
            "_view_name": "LayoutView",
            "grid_template_rows": null,
            "right": null,
            "justify_content": null,
            "_view_module": "@jupyter-widgets/base",
            "overflow": null,
            "_model_module_version": "1.2.0",
            "_view_count": null,
            "flex_flow": null,
            "width": null,
            "min_width": null,
            "border": null,
            "align_items": null,
            "bottom": null,
            "_model_module": "@jupyter-widgets/base",
            "top": null,
            "grid_column": null,
            "overflow_y": null,
            "overflow_x": null,
            "grid_auto_flow": null,
            "grid_area": null,
            "grid_template_columns": null,
            "flex": null,
            "_model_name": "LayoutModel",
            "justify_items": null,
            "grid_row": null,
            "max_height": null,
            "align_content": null,
            "visibility": null,
            "align_self": null,
            "height": null,
            "min_height": null,
            "padding": null,
            "grid_auto_rows": null,
            "grid_gap": null,
            "max_width": null,
            "order": null,
            "_view_module_version": "1.2.0",
            "grid_template_areas": null,
            "object_position": null,
            "object_fit": null,
            "grid_auto_columns": null,
            "margin": null,
            "display": null,
            "left": null
          }
        }
      }
    }
  },
  "cells": [
    {
      "cell_type": "code",
      "metadata": {
        "id": "HsSEfeBou6mo",
        "colab": {
          "base_uri": "https://localhost:8080/"
        },
        "outputId": "f5099369-b6a6-4e79-e90c-8a7a64c75c6d"
      },
      "source": [
        "#mount googledrive\n",
        "from google.colab import drive\n",
        "drive.mount('/content/gdrive')"
      ],
      "execution_count": 1,
      "outputs": [
        {
          "output_type": "stream",
          "text": [
            "Mounted at /content/gdrive\n"
          ],
          "name": "stdout"
        }
      ]
    },
    {
      "cell_type": "code",
      "metadata": {
        "id": "Qt6vyQTovARK"
      },
      "source": [
        "import numpy as np\n",
        "import time\n",
        "import torch\n",
        "import torch.nn as nn\n",
        "import torch.nn.functional as F\n",
        "import torch.optim as optim\n",
        "import torchvision\n",
        "from torch.utils.data.sampler import SubsetRandomSampler\n",
        "import torchvision.transforms as transforms\n",
        "import matplotlib.pyplot as plt\n",
        "from torchvision import transforms\n",
        "import os"
      ],
      "execution_count": 2,
      "outputs": []
    },
    {
      "cell_type": "code",
      "metadata": {
        "id": "htdHIdKPwlJE"
      },
      "source": [
        "feature_path = '/content/gdrive/My Drive/University/5th_Year/APS360/Project/Features_version2/'\n",
        "checkpoint_path = '/content/gdrive/My Drive/University/5th_Year/APS360/Project/Training Model Updated/checkpoints/sample_data/checkpoint'"
      ],
      "execution_count": 3,
      "outputs": []
    },
    {
      "cell_type": "code",
      "metadata": {
        "id": "6BHezqIn5zTf"
      },
      "source": [
        "# !unzip /content/gdrive/MyDrive/features.zip -d /content/"
      ],
      "execution_count": 4,
      "outputs": []
    },
    {
      "cell_type": "code",
      "metadata": {
        "id": "buJ5dlHo7Se2"
      },
      "source": [
        "#\"/content/Features/Train\"\n",
        "def get_features(batch_size, path_trail):\n",
        "  master_path= feature_path + path_trail\n",
        "  dataset = torchvision.datasets.DatasetFolder(master_path, loader=torch.load, extensions=('.tensor'))\n",
        "  num_workers=1\n",
        "  feature_loader = torch.utils.data.DataLoader(dataset, batch_size=batch_size, \n",
        "                                           num_workers=num_workers, shuffle=True)\n",
        "  return feature_loader"
      ],
      "execution_count": 5,
      "outputs": []
    },
    {
      "cell_type": "code",
      "metadata": {
        "colab": {
          "base_uri": "https://localhost:8080/",
          "height": 100,
          "referenced_widgets": [
            "9e296358689143e69761056f5e38feb3",
            "346988a5de3f4662a3f7531e1ca58276",
            "87d880ac3bc74b599f05d5e6edf381af",
            "8a81f65c51a942e0bdc0b6e3a18cb1f1",
            "26ec522addbc4bf7815cfa95051403d0",
            "662f5718322a4ea6a3ff83fce2d8a9a9",
            "bd81dbc8bd8446b1b4039b9229fdaec2",
            "454c615b7cf3493cac8127fddb11b99d"
          ]
        },
        "id": "u5Irty1L7pAf",
        "outputId": "60084663-7c8a-4b55-f3ec-2e9974419896"
      },
      "source": [
        "import torchvision.models\n",
        "alexnet = torchvision.models.alexnet(pretrained=True)\n",
        "# feature_loader =get_features(batch_size=16,  path=\"/content/Features/Train\")\n",
        "feature_loader =get_features(batch_size=16,  path_trail=\"Train\")\n",
        "for img, label in feature_loader:\n",
        "  print(label)\n",
        "  break\n"
      ],
      "execution_count": 6,
      "outputs": [
        {
          "output_type": "stream",
          "text": [
            "Downloading: \"https://download.pytorch.org/models/alexnet-owt-4df8aa71.pth\" to /root/.cache/torch/hub/checkpoints/alexnet-owt-4df8aa71.pth\n"
          ],
          "name": "stderr"
        },
        {
          "output_type": "display_data",
          "data": {
            "application/vnd.jupyter.widget-view+json": {
              "model_id": "9e296358689143e69761056f5e38feb3",
              "version_minor": 0,
              "version_major": 2
            },
            "text/plain": [
              "HBox(children=(FloatProgress(value=0.0, max=244418560.0), HTML(value='')))"
            ]
          },
          "metadata": {
            "tags": []
          }
        },
        {
          "output_type": "stream",
          "text": [
            "\n",
            "tensor([1, 0, 1, 1, 0, 1, 0, 1, 0, 0, 0, 1, 0, 0, 0, 1])\n"
          ],
          "name": "stdout"
        }
      ]
    },
    {
      "cell_type": "code",
      "metadata": {
        "id": "p4LJuoCY8EVp"
      },
      "source": [
        "class nn_after_feature(nn.Module):\n",
        "  def __init__(self, hidden_one, hidden_two):\n",
        "      super(nn_after_feature, self).__init__()\n",
        "      self.name = \"nn_after_feature\"\n",
        "      self.fc1 = nn.Linear(256*6*6, hidden_one)\n",
        "      self.fc2 = nn.Linear(hidden_one, hidden_two)\n",
        "      self.fc3 = nn.Linear(hidden_two, 2)\n",
        "\n",
        "  def forward(self, x):\n",
        "      x = x.view(-1, 256*6*6)\n",
        "      x = F.relu(self.fc1(x))\n",
        "      x = F.relu(self.fc2(x))\n",
        "      x = self.fc3(x)\n",
        "      return x"
      ],
      "execution_count": 7,
      "outputs": []
    },
    {
      "cell_type": "code",
      "metadata": {
        "id": "4dTiSeFny2MB"
      },
      "source": [
        "#hyperparamters\n",
        "\n",
        "hidden_one = 50\n",
        "hidden_two = 100"
      ],
      "execution_count": 8,
      "outputs": []
    },
    {
      "cell_type": "code",
      "metadata": {
        "id": "E8K8eVFR8N8v",
        "colab": {
          "base_uri": "https://localhost:8080/"
        },
        "outputId": "dd1f7c10-8443-4ae2-d102-a66252967574"
      },
      "source": [
        "model=nn_after_feature(hidden_one, hidden_two)\n",
        "for img, label in feature_loader:\n",
        "  out=model(img)\n",
        "  print(out)\n",
        "  break"
      ],
      "execution_count": 9,
      "outputs": [
        {
          "output_type": "stream",
          "text": [
            "tensor([[-0.0358,  0.0733],\n",
            "        [-0.0430,  0.0900],\n",
            "        [-0.0579,  0.0407],\n",
            "        [-0.1084,  0.0247],\n",
            "        [-0.0807,  0.0584],\n",
            "        [-0.0576,  0.0610],\n",
            "        [-0.0782,  0.0380],\n",
            "        [-0.0494,  0.0277],\n",
            "        [-0.0492,  0.0330],\n",
            "        [-0.0763,  0.0318],\n",
            "        [ 0.0232,  0.0628],\n",
            "        [-0.0502,  0.0921],\n",
            "        [ 0.0024, -0.0067],\n",
            "        [-0.0058,  0.0608],\n",
            "        [-0.0509,  0.0357],\n",
            "        [-0.0916,  0.0390]], grad_fn=<AddmmBackward>)\n"
          ],
          "name": "stdout"
        }
      ]
    },
    {
      "cell_type": "code",
      "metadata": {
        "colab": {
          "base_uri": "https://localhost:8080/"
        },
        "id": "SzDLORF-8dIm",
        "outputId": "78808836-8ae2-4896-8157-3337ea6e89eb"
      },
      "source": [
        "def accuracy_transfer_learining(net, loader):\n",
        "    correct = 0\n",
        "    total = 0\n",
        "    for imgs, labels in loader:\n",
        "        if torch.cuda.is_available():\n",
        "            imgs = imgs.cuda()\n",
        "            labels = labels.cuda()\n",
        "        output=net(imgs)\n",
        "        pred = output.max(1, keepdim=True)[1] #(get maximum value among the output)\n",
        "        correct += pred.eq(labels.view_as(pred)).sum().item()\n",
        "        total += imgs.shape[0]\n",
        "    return correct / total\n",
        "\n",
        "model=model.cuda()\n",
        "val_feature_loader=get_features(36, \"Valid\")\n",
        "accuracy_transfer_learining(model, val_feature_loader)"
      ],
      "execution_count": 10,
      "outputs": [
        {
          "output_type": "execute_result",
          "data": {
            "text/plain": [
              "0.8716417910447761"
            ]
          },
          "metadata": {
            "tags": []
          },
          "execution_count": 10
        }
      ]
    },
    {
      "cell_type": "code",
      "metadata": {
        "id": "xz9TBC9JCCKf"
      },
      "source": [
        "def training_transfer_learning(net, batch_size=1, learning_rate=0.001, momentum=0.9, epcho_limit=10, testing=False):\n",
        "  train_feature_loader=get_features(batch_size, \"Train\")\n",
        "  val_feature_loader=get_features(batch_size, \"Valid\")\n",
        "  criterion = nn.CrossEntropyLoss()\n",
        "  optimizer = optim.SGD(net.parameters(), lr=learning_rate, momentum=0.9)\n",
        "\n",
        "  acc_train_list=[]\n",
        "  acc_val_list=[]\n",
        "  epcho_list=[]\n",
        "  k=0\n",
        "\n",
        "  for epcho in range(epcho_limit):\n",
        "    correct=0\n",
        "    total=0\n",
        "    k=0\n",
        "    for input, label in iter(train_feature_loader):\n",
        "      if torch.cuda.is_available():\n",
        "          input = input.cuda()\n",
        "          label = label.cuda()\n",
        "      output=net(input)\n",
        "      \n",
        "      loss = criterion(output, label)\n",
        "      loss.backward()\n",
        "      optimizer.step()\n",
        "      optimizer.zero_grad()\n",
        "      pred = output.max(1, keepdim=True)[1]\n",
        "      correct += pred.eq(label.view_as(pred)).sum().item()\n",
        "      total += input.shape[0]\n",
        "      k=k+1\n",
        "      if testing and k>50:\n",
        "        break\n",
        "    \n",
        "    acc_val=accuracy_transfer_learining(net, val_feature_loader)\n",
        "    acc_train=correct/total\n",
        "    acc_train_list.append(acc_train)\n",
        "    acc_val_list.append(acc_val)\n",
        "    epcho_list.append(epcho)\n",
        "\n",
        "    if (epcho) %5==0:\n",
        "      torch.save(net.state_dict(), checkpoint_path +str(batch_size)+\"_\"+str(learning_rate)+\".pth\")\n",
        "      #torch.save(net.state_dict(), \"/content/sample_data/checkpoint\"+str(batch_size)+\"_\"+str(learning_rate)+\".pth\")\n",
        "      print(\"epcho: \"+str(epcho)+\" train acc: \"+str(acc_train)+\" val acc: \"+str(acc_val))\n",
        "  torch.save(net.state_dict(), checkpoint_path +str(batch_size)+\"_\"+str(learning_rate)+\".pth\")\n",
        "  #torch.save(net.state_dict(), \"/content/sample_data/checkpoint\"+str(batch_size)+\"_\"+str(learning_rate)+\".pth\")\n",
        "  print(\"epcho: \"+str(epcho)+\" train acc: \"+str(acc_train)+\" val acc: \"+str(acc_val))\n",
        "\n",
        "  plt.title(\"Training Curve | batch size: \"+str(batch_size)+\" lr: \"+str(learning_rate))\n",
        "  plt.plot(epcho_list, acc_train_list, label=\"Train \")\n",
        "  plt.plot(epcho_list, acc_val_list, label=\"Validation\")\n",
        "  plt.xlabel(\"Iterations\")\n",
        "  plt.ylabel(\"Training Accuracy\")\n",
        "  plt.legend(loc='best')\n",
        "  plt.show()"
      ],
      "execution_count": 11,
      "outputs": []
    },
    {
      "cell_type": "code",
      "metadata": {
        "id": "ZLcq6SfkClhl",
        "colab": {
          "base_uri": "https://localhost:8080/",
          "height": 516
        },
        "outputId": "543f7fe7-fa39-428d-f67b-d6599b36f3dd"
      },
      "source": [
        "# hidden_one = 50\n",
        "# hidden_two = 100\n",
        "model=nn_after_feature(50, 20)\n",
        "model=model.cuda()\n",
        "training_transfer_learning(model, learning_rate=0.001, \n",
        "                           batch_size=32, epcho_limit=60)"
      ],
      "execution_count": 12,
      "outputs": [
        {
          "output_type": "stream",
          "text": [
            "epcho: 0 train acc: 0.7606230793684433 val acc: 0.9626865671641791\n",
            "epcho: 5 train acc: 0.9526332520928261 val acc: 0.9805970149253731\n",
            "epcho: 10 train acc: 0.9759457454699587 val acc: 0.9686567164179104\n",
            "epcho: 15 train acc: 0.9859065380947335 val acc: 0.9537313432835821\n",
            "epcho: 20 train acc: 0.9976687506622868 val acc: 0.9671641791044776\n",
            "epcho: 25 train acc: 1.0 val acc: 0.9791044776119403\n",
            "epcho: 30 train acc: 1.0 val acc: 0.9731343283582089\n",
            "epcho: 35 train acc: 1.0 val acc: 0.9776119402985075\n",
            "epcho: 40 train acc: 1.0 val acc: 0.9731343283582089\n",
            "epcho: 45 train acc: 1.0 val acc: 0.9731343283582089\n",
            "epcho: 50 train acc: 1.0 val acc: 0.9716417910447761\n",
            "epcho: 55 train acc: 1.0 val acc: 0.9716417910447761\n",
            "epcho: 59 train acc: 1.0 val acc: 0.9716417910447761\n"
          ],
          "name": "stdout"
        },
        {
          "output_type": "display_data",
          "data": {
            "image/png": "[encoded data removed]",
            "text/plain": [
              "<Figure size 432x288 with 1 Axes>"
            ]
          },
          "metadata": {
            "tags": [],
            "needs_background": "light"
          }
        }
      ]
    },
    {
      "cell_type": "code",
      "metadata": {
        "colab": {
          "base_uri": "https://localhost:8080/"
        },
        "id": "Gv0PZFY5cAfZ",
        "outputId": "76fcc8d1-57cd-4fda-abcd-48f876d5bb58"
      },
      "source": [
        "#getting test accuracy for model using AlexNet features \n",
        "\n",
        "batch_size = 32\n",
        "test_feature_loader=get_features(batch_size, \"Test\")\n",
        "print(\"Final test accuracy:\", accuracy_transfer_learining(\n",
        "    model, test_feature_loader))"
      ],
      "execution_count": 13,
      "outputs": [
        {
          "output_type": "stream",
          "text": [
            "Final test accuracy: 0.9701492537313433\n"
          ],
          "name": "stdout"
        }
      ]
    }
  ]
}