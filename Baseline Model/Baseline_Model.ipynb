{
  "nbformat": 4,
  "nbformat_minor": 0,
  "metadata": {
    "colab": {
      "name": "Baseline Model",
      "provenance": [],
      "collapsed_sections": []
    },
    "kernelspec": {
      "name": "python3",
      "display_name": "Python 3"
    },
    "accelerator": "GPU"
  },
  "cells": [
    {
      "cell_type": "code",
      "metadata": {
        "id": "HsSEfeBou6mo",
        "outputId": "ab9e748a-d0bf-41b7-cfd9-362c0fc39fe7",
        "colab": {
          "base_uri": "https://localhost:8080/"
        }
      },
      "source": [
        "#mount googledrive\n",
        "from google.colab import drive\n",
        "drive.mount('/content/gdrive')"
      ],
      "execution_count": 1,
      "outputs": [
        {
          "output_type": "stream",
          "text": [
            "Mounted at /content/gdrive\n"
          ],
          "name": "stdout"
        }
      ]
    },
    {
      "cell_type": "code",
      "metadata": {
        "id": "Qt6vyQTovARK"
      },
      "source": [
        "import torch\n",
        "import numpy as np\n",
        "\n",
        "import os\n",
        "import torchvision\n",
        "import torchvision.transforms as transforms\n",
        "from torch.utils.data.sampler import SubsetRandomSampler\n",
        "import torchvision.models"
      ],
      "execution_count": 2,
      "outputs": []
    },
    {
      "cell_type": "code",
      "metadata": {
        "id": "sJWeFwOKvL11"
      },
      "source": [
        "# location on Google Drive\n",
        "feature_path_TRAIN = '/content/gdrive/My Drive/University/5th_Year/APS360/Project/Features/Train/'\n",
        "feature_path_TEST = '/content/gdrive/My Drive/University/5th_Year/APS360/Project/Features/Test/'\n",
        "feature_path_VALID = '/content/gdrive/My Drive/University/5th_Year/APS360/Project/Features/Valid/'\n"
      ],
      "execution_count": 3,
      "outputs": []
    },
    {
      "cell_type": "code",
      "metadata": {
        "id": "SIWlZck1vhG5",
        "outputId": "e4a07a8b-cbf8-4580-9766-f9a30d006b4c",
        "colab": {
          "base_uri": "https://localhost:8080/"
        }
      },
      "source": [
        "# Prepare Dataloader\n",
        "batch_size = 32\n",
        "num_workers = 1 \n",
        "\n",
        "def get_dataset(feature_path):\n",
        "  return torchvision.datasets.DatasetFolder(feature_path, loader=torch.load, extensions=('.tensor'))\n",
        "\n",
        "def get_feature_loader(dataset):\n",
        "  return torch.utils.data.DataLoader(dataset, batch_size=batch_size, num_workers=num_workers, shuffle=True)\n",
        "\n",
        "def print_shape(dataiter):\n",
        "  features, labels = dataiter.next()\n",
        "  print(features.shape)\n",
        "  print(labels.shape)\n",
        "\n",
        "dataset_training          = get_dataset (feature_path_TRAIN)\n",
        "dataset_validation        = get_dataset (feature_path_VALID)\n",
        "dataset_testing           = get_dataset (feature_path_TEST)\n",
        "\n",
        "feature_loader_training   = get_feature_loader(dataset_training)\n",
        "feature_loader_validation = get_feature_loader(dataset_validation)\n",
        "feature_loader_testing    = get_feature_loader(dataset_testing)\n",
        "\n",
        "# Verification Step - obtain one batch of features\n",
        "dataiter_training         = iter(feature_loader_training)\n",
        "dataiter_validation       = iter(feature_loader_validation)\n",
        "dataiter_testing          = iter(feature_loader_testing)\n",
        "\n",
        "print_shape(dataiter_training)\n",
        "print_shape(dataiter_validation)\n",
        "print_shape(dataiter_testing)"
      ],
      "execution_count": 4,
      "outputs": [
        {
          "output_type": "stream",
          "text": [
            "torch.Size([32, 256, 6, 6])\n",
            "torch.Size([32])\n",
            "torch.Size([32, 256, 6, 6])\n",
            "torch.Size([32])\n",
            "torch.Size([32, 256, 6, 6])\n",
            "torch.Size([32])\n"
          ],
          "name": "stdout"
        }
      ]
    },
    {
      "cell_type": "code",
      "metadata": {
        "id": "m6fEcNC3YB9w",
        "outputId": "140c8f2e-be5f-485a-dbf4-ff4488b0e350",
        "colab": {
          "base_uri": "https://localhost:8080/"
        }
      },
      "source": [
        "#baseline model \n",
        "#training data & labels\n",
        "features_train, labels_train = dataiter_training.next()\n",
        "training_data = features_train.view(-1, 256 * 6 * 6).detach().numpy()\n",
        "training_labels = labels_train.detach().numpy()\n",
        "print(\"training data: :\", training_data.shape, \"  training labels: \", training_labels.shape)\n",
        "\n",
        "#testing data & labels\n",
        "features_test, labels_test = dataiter_testing.next()\n",
        "testing_data = features_test.view(-1, 256 * 6 * 6).detach().numpy()\n",
        "testing_labels = labels_test.detach().numpy()\n",
        "print(\"testing data: :\", testing_data.shape, \"  testing labels: \", testing_labels.shape)\n",
        "\n",
        "# Random Forest\n",
        "from sklearn.ensemble import RandomForestClassifier\n",
        "model = RandomForestClassifier(n_estimators=250)\n",
        "\n",
        "# Fit the model to our training data\n",
        "model.fit(training_data, training_labels)\n",
        "\n",
        "# Make predictions\n",
        "testing_predicted = model.predict(testing_data)\n",
        "score = 100*(1-sum(abs(testing_predicted-testing_labels))/len(testing_predicted))\n",
        "print(\"RF Test:\", score)\n",
        "\n",
        "print (\"training labels: \", training_labels)\n",
        "print (\"testing predicted: \", testing_predicted)\n",
        "print (\"testing labels: \",testing_labels)"
      ],
      "execution_count": 8,
      "outputs": [
        {
          "output_type": "stream",
          "text": [
            "training data: : (32, 9216)   training labels:  (32,)\n",
            "testing data: : (32, 9216)   testing labels:  (32,)\n",
            "RF Test: 100.0\n",
            "training labels:  [0 0 1 0 0 0 1 1 0 1 0 0 1 1 1 1 0 0 0 0 1 0 1 0 1 1 1 1 0 1 0 0]\n",
            "testing predicted:  [1 0 1 1 0 1 1 0 1 1 1 1 0 0 0 0 0 1 0 0 1 1 0 0 0 1 1 0 1 1 0 0]\n",
            "testing labels:  [1 0 1 1 0 1 1 0 1 1 1 1 0 0 0 0 0 1 0 0 1 1 0 0 0 1 1 0 1 1 0 0]\n"
          ],
          "name": "stdout"
        }
      ]
    }
  ]
}