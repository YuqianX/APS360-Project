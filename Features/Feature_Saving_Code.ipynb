{
  "nbformat": 4,
  "nbformat_minor": 0,
  "metadata": {
    "colab": {
      "name": "Feature Saving Code",
      "provenance": [],
      "collapsed_sections": []
    },
    "kernelspec": {
      "name": "python3",
      "display_name": "Python 3"
    },
    "widgets": {
      "application/vnd.jupyter.widget-state+json": {
        "f0f2d7f4306c4cbc8fe3400a58b40862": {
          "model_module": "@jupyter-widgets/controls",
          "model_name": "HBoxModel",
          "state": {
            "_view_name": "HBoxView",
            "_dom_classes": [],
            "_model_name": "HBoxModel",
            "_view_module": "@jupyter-widgets/controls",
            "_model_module_version": "1.5.0",
            "_view_count": null,
            "_view_module_version": "1.5.0",
            "box_style": "",
            "layout": "IPY_MODEL_6a6fc2f588db4bdb9c34eacdaa043173",
            "_model_module": "@jupyter-widgets/controls",
            "children": [
              "IPY_MODEL_106823df245f453685834f71fb893f83",
              "IPY_MODEL_de0af848bb7f4cdc87f08f13c982ed76"
            ]
          }
        },
        "6a6fc2f588db4bdb9c34eacdaa043173": {
          "model_module": "@jupyter-widgets/base",
          "model_name": "LayoutModel",
          "state": {
            "_view_name": "LayoutView",
            "grid_template_rows": null,
            "right": null,
            "justify_content": null,
            "_view_module": "@jupyter-widgets/base",
            "overflow": null,
            "_model_module_version": "1.2.0",
            "_view_count": null,
            "flex_flow": null,
            "width": null,
            "min_width": null,
            "border": null,
            "align_items": null,
            "bottom": null,
            "_model_module": "@jupyter-widgets/base",
            "top": null,
            "grid_column": null,
            "overflow_y": null,
            "overflow_x": null,
            "grid_auto_flow": null,
            "grid_area": null,
            "grid_template_columns": null,
            "flex": null,
            "_model_name": "LayoutModel",
            "justify_items": null,
            "grid_row": null,
            "max_height": null,
            "align_content": null,
            "visibility": null,
            "align_self": null,
            "height": null,
            "min_height": null,
            "padding": null,
            "grid_auto_rows": null,
            "grid_gap": null,
            "max_width": null,
            "order": null,
            "_view_module_version": "1.2.0",
            "grid_template_areas": null,
            "object_position": null,
            "object_fit": null,
            "grid_auto_columns": null,
            "margin": null,
            "display": null,
            "left": null
          }
        },
        "106823df245f453685834f71fb893f83": {
          "model_module": "@jupyter-widgets/controls",
          "model_name": "FloatProgressModel",
          "state": {
            "_view_name": "ProgressView",
            "style": "IPY_MODEL_cfd96f7071b5414e8fb75c6415f208ac",
            "_dom_classes": [],
            "description": "100%",
            "_model_name": "FloatProgressModel",
            "bar_style": "success",
            "max": 244418560,
            "_view_module": "@jupyter-widgets/controls",
            "_model_module_version": "1.5.0",
            "value": 244418560,
            "_view_count": null,
            "_view_module_version": "1.5.0",
            "orientation": "horizontal",
            "min": 0,
            "description_tooltip": null,
            "_model_module": "@jupyter-widgets/controls",
            "layout": "IPY_MODEL_35ebb7ae7b1c4a8a82857164a1b4a890"
          }
        },
        "de0af848bb7f4cdc87f08f13c982ed76": {
          "model_module": "@jupyter-widgets/controls",
          "model_name": "HTMLModel",
          "state": {
            "_view_name": "HTMLView",
            "style": "IPY_MODEL_be55ae45d1594593a7e10a19d6128715",
            "_dom_classes": [],
            "description": "",
            "_model_name": "HTMLModel",
            "placeholder": "​",
            "_view_module": "@jupyter-widgets/controls",
            "_model_module_version": "1.5.0",
            "value": " 233M/233M [00:55&lt;00:00, 4.41MB/s]",
            "_view_count": null,
            "_view_module_version": "1.5.0",
            "description_tooltip": null,
            "_model_module": "@jupyter-widgets/controls",
            "layout": "IPY_MODEL_84eb1907e4fe46aca15e350e13f44ad2"
          }
        },
        "cfd96f7071b5414e8fb75c6415f208ac": {
          "model_module": "@jupyter-widgets/controls",
          "model_name": "ProgressStyleModel",
          "state": {
            "_view_name": "StyleView",
            "_model_name": "ProgressStyleModel",
            "description_width": "initial",
            "_view_module": "@jupyter-widgets/base",
            "_model_module_version": "1.5.0",
            "_view_count": null,
            "_view_module_version": "1.2.0",
            "bar_color": null,
            "_model_module": "@jupyter-widgets/controls"
          }
        },
        "35ebb7ae7b1c4a8a82857164a1b4a890": {
          "model_module": "@jupyter-widgets/base",
          "model_name": "LayoutModel",
          "state": {
            "_view_name": "LayoutView",
            "grid_template_rows": null,
            "right": null,
            "justify_content": null,
            "_view_module": "@jupyter-widgets/base",
            "overflow": null,
            "_model_module_version": "1.2.0",
            "_view_count": null,
            "flex_flow": null,
            "width": null,
            "min_width": null,
            "border": null,
            "align_items": null,
            "bottom": null,
            "_model_module": "@jupyter-widgets/base",
            "top": null,
            "grid_column": null,
            "overflow_y": null,
            "overflow_x": null,
            "grid_auto_flow": null,
            "grid_area": null,
            "grid_template_columns": null,
            "flex": null,
            "_model_name": "LayoutModel",
            "justify_items": null,
            "grid_row": null,
            "max_height": null,
            "align_content": null,
            "visibility": null,
            "align_self": null,
            "height": null,
            "min_height": null,
            "padding": null,
            "grid_auto_rows": null,
            "grid_gap": null,
            "max_width": null,
            "order": null,
            "_view_module_version": "1.2.0",
            "grid_template_areas": null,
            "object_position": null,
            "object_fit": null,
            "grid_auto_columns": null,
            "margin": null,
            "display": null,
            "left": null
          }
        },
        "be55ae45d1594593a7e10a19d6128715": {
          "model_module": "@jupyter-widgets/controls",
          "model_name": "DescriptionStyleModel",
          "state": {
            "_view_name": "StyleView",
            "_model_name": "DescriptionStyleModel",
            "description_width": "",
            "_view_module": "@jupyter-widgets/base",
            "_model_module_version": "1.5.0",
            "_view_count": null,
            "_view_module_version": "1.2.0",
            "_model_module": "@jupyter-widgets/controls"
          }
        },
        "84eb1907e4fe46aca15e350e13f44ad2": {
          "model_module": "@jupyter-widgets/base",
          "model_name": "LayoutModel",
          "state": {
            "_view_name": "LayoutView",
            "grid_template_rows": null,
            "right": null,
            "justify_content": null,
            "_view_module": "@jupyter-widgets/base",
            "overflow": null,
            "_model_module_version": "1.2.0",
            "_view_count": null,
            "flex_flow": null,
            "width": null,
            "min_width": null,
            "border": null,
            "align_items": null,
            "bottom": null,
            "_model_module": "@jupyter-widgets/base",
            "top": null,
            "grid_column": null,
            "overflow_y": null,
            "overflow_x": null,
            "grid_auto_flow": null,
            "grid_area": null,
            "grid_template_columns": null,
            "flex": null,
            "_model_name": "LayoutModel",
            "justify_items": null,
            "grid_row": null,
            "max_height": null,
            "align_content": null,
            "visibility": null,
            "align_self": null,
            "height": null,
            "min_height": null,
            "padding": null,
            "grid_auto_rows": null,
            "grid_gap": null,
            "max_width": null,
            "order": null,
            "_view_module_version": "1.2.0",
            "grid_template_areas": null,
            "object_position": null,
            "object_fit": null,
            "grid_auto_columns": null,
            "margin": null,
            "display": null,
            "left": null
          }
        }
      }
    }
  },
  "cells": [
    {
      "cell_type": "code",
      "metadata": {
        "id": "IvdQBZTSR3hx",
        "colab": {
          "base_uri": "https://localhost:8080/"
        },
        "outputId": "401645d4-b96b-4f3e-ec2f-e2aaf10ae2b0"
      },
      "source": [
        "#mount googledrive\n",
        "from google.colab import drive\n",
        "drive.mount('/content/gdrive')"
      ],
      "execution_count": null,
      "outputs": [
        {
          "output_type": "stream",
          "text": [
            "Mounted at /content/gdrive\n"
          ],
          "name": "stdout"
        }
      ]
    },
    {
      "cell_type": "code",
      "metadata": {
        "id": "nkrv3vkUUzbH",
        "colab": {
          "base_uri": "https://localhost:8080/",
          "height": 83,
          "referenced_widgets": [
            "f0f2d7f4306c4cbc8fe3400a58b40862",
            "6a6fc2f588db4bdb9c34eacdaa043173",
            "106823df245f453685834f71fb893f83",
            "de0af848bb7f4cdc87f08f13c982ed76",
            "cfd96f7071b5414e8fb75c6415f208ac",
            "35ebb7ae7b1c4a8a82857164a1b4a890",
            "be55ae45d1594593a7e10a19d6128715",
            "84eb1907e4fe46aca15e350e13f44ad2"
          ]
        },
        "outputId": "9502c0a2-5b66-412d-d256-690b08e231b1"
      },
      "source": [
        "# Save Features to Folder (assumes code from 1. has been evaluated)\n",
        "import torch\n",
        "import numpy as np\n",
        "\n",
        "import os\n",
        "import torchvision\n",
        "import torchvision.transforms as transforms\n",
        "from torch.utils.data.sampler import SubsetRandomSampler\n",
        "import torchvision.models\n",
        "\n",
        "alexnet = torchvision.models.alexnet(pretrained=True)"
      ],
      "execution_count": null,
      "outputs": [
        {
          "output_type": "stream",
          "text": [
            "Downloading: \"https://download.pytorch.org/models/alexnet-owt-4df8aa71.pth\" to /root/.cache/torch/hub/checkpoints/alexnet-owt-4df8aa71.pth\n"
          ],
          "name": "stderr"
        },
        {
          "output_type": "display_data",
          "data": {
            "application/vnd.jupyter.widget-view+json": {
              "model_id": "f0f2d7f4306c4cbc8fe3400a58b40862",
              "version_minor": 0,
              "version_major": 2
            },
            "text/plain": [
              "HBox(children=(FloatProgress(value=0.0, max=244418560.0), HTML(value='')))"
            ]
          },
          "metadata": {
            "tags": []
          }
        },
        {
          "output_type": "stream",
          "text": [
            "\n"
          ],
          "name": "stdout"
        }
      ]
    },
    {
      "cell_type": "code",
      "metadata": {
        "id": "JNhLp2Jw436a"
      },
      "source": [
        "def saveTensors(master_path_, feature_path_):\n",
        "    print (\"master path:\", master_path_)\n",
        "    print (\"feature path:\", feature_path_)\n",
        "\n",
        "    # Transform Settings - Do not use RandomResizedCrop\n",
        "    transform = transforms.Compose([transforms.Resize((224,224)), transforms.ToTensor()])\n",
        "\n",
        "    # Load data from Google Drive\n",
        "    dataset = torchvision.datasets.ImageFolder(master_path_, transform=transform)\n",
        "\n",
        "    # Prepare Dataloader (requires code from 1.)\n",
        "    batch_size = 1 # save 1 file at a time, hence batch_size = 1\n",
        "    num_workers = 1\n",
        "    data_loader = torch.utils.data.DataLoader(dataset, batch_size=batch_size, \n",
        "                                              num_workers=num_workers, shuffle=True)\n",
        "\n",
        "    #classes = ['withMask', 'withoutMask']\n",
        "    print(len(data_loader))\n",
        "    print(dataset.classes)\n",
        "\n",
        "    # save features to folder as tensors\n",
        "    n = 0\n",
        "    for img, label in data_loader:\n",
        "      features = alexnet.features(img)\n",
        "      features_tensor = torch.from_numpy(features.detach().numpy())\n",
        "\n",
        "      folder_name = feature_path_ + str(dataset.classes[label])\n",
        "      if not os.path.isdir(folder_name):\n",
        "        os.mkdir(folder_name)\n",
        "      torch.save(features_tensor.squeeze(0), folder_name + '/' + str(n) + '.tensor')\n",
        "      n += 1\n",
        "\n",
        "    print (\"done!\")\n",
        "    print(n)\n",
        "    return\n",
        "\n"
      ],
      "execution_count": null,
      "outputs": []
    },
    {
      "cell_type": "code",
      "metadata": {
        "id": "sMAU2402EpiT"
      },
      "source": [
        "# master_path_TRAIN = '/content/gdrive/My Drive/University/5th_Year/APS360/Project/AugmentedData/Train'\n",
        "# feature_path_TRAIN = '/content/gdrive/My Drive/University/5th_Year/APS360/Project/Features/Train/'\n",
        "# saveTensors(master_path_TRAIN, feature_path_TRAIN)\n",
        "\n",
        "# master_path_TEST = '/content/gdrive/My Drive/University/5th_Year/APS360/Project/AugmentedData/Test'\n",
        "# feature_path_TEST = '/content/gdrive/My Drive/University/5th_Year/APS360/Project/Features/Test/'\n",
        "# saveTensors(master_path_TEST, feature_path_TEST)\n",
        "\n",
        "# master_path_VALID = '/content/gdrive/My Drive/University/5th_Year/APS360/Project/AugmentedData/Valid'\n",
        "# feature_path_VALID = '/content/gdrive/My Drive/University/5th_Year/APS360/Project/Features/Valid/'\n",
        "# saveTensors(master_path_VALID, feature_path_VALID)"
      ],
      "execution_count": null,
      "outputs": []
    },
    {
      "cell_type": "code",
      "metadata": {
        "colab": {
          "base_uri": "https://localhost:8080/"
        },
        "id": "bqmIdnmk4tqn",
        "outputId": "7b4f0266-3943-4ebc-c1da-78a916844ca5"
      },
      "source": [
        "# with updated augmented data\n",
        "master_path_TRAIN = '/content/gdrive/My Drive/University/5th_Year/APS360/Project/Augmented_version2/Train'\n",
        "feature_path_TRAIN = '/content/gdrive/My Drive/University/5th_Year/APS360/Project/Features_version2/Train/'\n",
        "saveTensors(master_path_TRAIN, feature_path_TRAIN)\n",
        "\n",
        "master_path_TEST = '/content/gdrive/My Drive/University/5th_Year/APS360/Project/Augmented_version2/Test'\n",
        "feature_path_TEST = '/content/gdrive/My Drive/University/5th_Year/APS360/Project/Features_version2/Test/'\n",
        "saveTensors(master_path_TEST, feature_path_TEST)\n",
        "\n",
        "master_path_VALID = '/content/gdrive/My Drive/University/5th_Year/APS360/Project/Augmented_version2/Valid'\n",
        "feature_path_VALID = '/content/gdrive/My Drive/University/5th_Year/APS360/Project/Features_version2/Valid/'\n",
        "saveTensors(master_path_VALID, feature_path_VALID)"
      ],
      "execution_count": null,
      "outputs": [
        {
          "output_type": "stream",
          "text": [
            "master path: /content/gdrive/My Drive/University/5th_Year/APS360/Project/Augmented_version2/Train\n",
            "feature path: /content/gdrive/My Drive/University/5th_Year/APS360/Project/Features_version2/Train/\n",
            "9437\n",
            "['withMask', 'withoutMask']\n",
            "done!\n",
            "9437\n",
            "master path: /content/gdrive/My Drive/University/5th_Year/APS360/Project/Augmented_version2/Test\n",
            "feature path: /content/gdrive/My Drive/University/5th_Year/APS360/Project/Features_version2/Test/\n",
            "670\n",
            "['withMask', 'withoutMask']\n",
            "done!\n",
            "670\n",
            "master path: /content/gdrive/My Drive/University/5th_Year/APS360/Project/Augmented_version2/Valid\n",
            "feature path: /content/gdrive/My Drive/University/5th_Year/APS360/Project/Features_version2/Valid/\n",
            "670\n",
            "['withMask', 'withoutMask']\n",
            "done!\n",
            "670\n"
          ],
          "name": "stdout"
        }
      ]
    }
  ]
}