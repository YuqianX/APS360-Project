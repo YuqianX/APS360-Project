{
  "nbformat": 4,
  "nbformat_minor": 0,
  "metadata": {
    "colab": {
      "name": "Training",
      "provenance": [],
      "collapsed_sections": []
    },
    "kernelspec": {
      "name": "python3",
      "display_name": "Python 3"
    },
    "accelerator": "GPU",
    "widgets": {
      "application/vnd.jupyter.widget-state+json": {
        "c0b902ef5c9a428994bbb7a8363300ee": {
          "model_module": "@jupyter-widgets/controls",
          "model_name": "HBoxModel",
          "state": {
            "_view_name": "HBoxView",
            "_dom_classes": [],
            "_model_name": "HBoxModel",
            "_view_module": "@jupyter-widgets/controls",
            "_model_module_version": "1.5.0",
            "_view_count": null,
            "_view_module_version": "1.5.0",
            "box_style": "",
            "layout": "IPY_MODEL_8abf0f7a6c994d549aad4a69bd470905",
            "_model_module": "@jupyter-widgets/controls",
            "children": [
              "IPY_MODEL_119f70c567684388854e24acf3989412",
              "IPY_MODEL_90441d25210448c2ba9427c54db6bf5d"
            ]
          }
        },
        "8abf0f7a6c994d549aad4a69bd470905": {
          "model_module": "@jupyter-widgets/base",
          "model_name": "LayoutModel",
          "state": {
            "_view_name": "LayoutView",
            "grid_template_rows": null,
            "right": null,
            "justify_content": null,
            "_view_module": "@jupyter-widgets/base",
            "overflow": null,
            "_model_module_version": "1.2.0",
            "_view_count": null,
            "flex_flow": null,
            "width": null,
            "min_width": null,
            "border": null,
            "align_items": null,
            "bottom": null,
            "_model_module": "@jupyter-widgets/base",
            "top": null,
            "grid_column": null,
            "overflow_y": null,
            "overflow_x": null,
            "grid_auto_flow": null,
            "grid_area": null,
            "grid_template_columns": null,
            "flex": null,
            "_model_name": "LayoutModel",
            "justify_items": null,
            "grid_row": null,
            "max_height": null,
            "align_content": null,
            "visibility": null,
            "align_self": null,
            "height": null,
            "min_height": null,
            "padding": null,
            "grid_auto_rows": null,
            "grid_gap": null,
            "max_width": null,
            "order": null,
            "_view_module_version": "1.2.0",
            "grid_template_areas": null,
            "object_position": null,
            "object_fit": null,
            "grid_auto_columns": null,
            "margin": null,
            "display": null,
            "left": null
          }
        },
        "119f70c567684388854e24acf3989412": {
          "model_module": "@jupyter-widgets/controls",
          "model_name": "FloatProgressModel",
          "state": {
            "_view_name": "ProgressView",
            "style": "IPY_MODEL_b76931ed67a641448456659a02ff4e5a",
            "_dom_classes": [],
            "description": "100%",
            "_model_name": "FloatProgressModel",
            "bar_style": "success",
            "max": 244418560,
            "_view_module": "@jupyter-widgets/controls",
            "_model_module_version": "1.5.0",
            "value": 244418560,
            "_view_count": null,
            "_view_module_version": "1.5.0",
            "orientation": "horizontal",
            "min": 0,
            "description_tooltip": null,
            "_model_module": "@jupyter-widgets/controls",
            "layout": "IPY_MODEL_d16dac931db14d8ea4fea9804dd9afcb"
          }
        },
        "90441d25210448c2ba9427c54db6bf5d": {
          "model_module": "@jupyter-widgets/controls",
          "model_name": "HTMLModel",
          "state": {
            "_view_name": "HTMLView",
            "style": "IPY_MODEL_412c82434d344834a28d30bc7a44de80",
            "_dom_classes": [],
            "description": "",
            "_model_name": "HTMLModel",
            "placeholder": "​",
            "_view_module": "@jupyter-widgets/controls",
            "_model_module_version": "1.5.0",
            "value": " 233M/233M [00:32&lt;00:00, 7.64MB/s]",
            "_view_count": null,
            "_view_module_version": "1.5.0",
            "description_tooltip": null,
            "_model_module": "@jupyter-widgets/controls",
            "layout": "IPY_MODEL_f8218e0f28a9445fa8b9c8228575dc9f"
          }
        },
        "b76931ed67a641448456659a02ff4e5a": {
          "model_module": "@jupyter-widgets/controls",
          "model_name": "ProgressStyleModel",
          "state": {
            "_view_name": "StyleView",
            "_model_name": "ProgressStyleModel",
            "description_width": "initial",
            "_view_module": "@jupyter-widgets/base",
            "_model_module_version": "1.5.0",
            "_view_count": null,
            "_view_module_version": "1.2.0",
            "bar_color": null,
            "_model_module": "@jupyter-widgets/controls"
          }
        },
        "d16dac931db14d8ea4fea9804dd9afcb": {
          "model_module": "@jupyter-widgets/base",
          "model_name": "LayoutModel",
          "state": {
            "_view_name": "LayoutView",
            "grid_template_rows": null,
            "right": null,
            "justify_content": null,
            "_view_module": "@jupyter-widgets/base",
            "overflow": null,
            "_model_module_version": "1.2.0",
            "_view_count": null,
            "flex_flow": null,
            "width": null,
            "min_width": null,
            "border": null,
            "align_items": null,
            "bottom": null,
            "_model_module": "@jupyter-widgets/base",
            "top": null,
            "grid_column": null,
            "overflow_y": null,
            "overflow_x": null,
            "grid_auto_flow": null,
            "grid_area": null,
            "grid_template_columns": null,
            "flex": null,
            "_model_name": "LayoutModel",
            "justify_items": null,
            "grid_row": null,
            "max_height": null,
            "align_content": null,
            "visibility": null,
            "align_self": null,
            "height": null,
            "min_height": null,
            "padding": null,
            "grid_auto_rows": null,
            "grid_gap": null,
            "max_width": null,
            "order": null,
            "_view_module_version": "1.2.0",
            "grid_template_areas": null,
            "object_position": null,
            "object_fit": null,
            "grid_auto_columns": null,
            "margin": null,
            "display": null,
            "left": null
          }
        },
        "412c82434d344834a28d30bc7a44de80": {
          "model_module": "@jupyter-widgets/controls",
          "model_name": "DescriptionStyleModel",
          "state": {
            "_view_name": "StyleView",
            "_model_name": "DescriptionStyleModel",
            "description_width": "",
            "_view_module": "@jupyter-widgets/base",
            "_model_module_version": "1.5.0",
            "_view_count": null,
            "_view_module_version": "1.2.0",
            "_model_module": "@jupyter-widgets/controls"
          }
        },
        "f8218e0f28a9445fa8b9c8228575dc9f": {
          "model_module": "@jupyter-widgets/base",
          "model_name": "LayoutModel",
          "state": {
            "_view_name": "LayoutView",
            "grid_template_rows": null,
            "right": null,
            "justify_content": null,
            "_view_module": "@jupyter-widgets/base",
            "overflow": null,
            "_model_module_version": "1.2.0",
            "_view_count": null,
            "flex_flow": null,
            "width": null,
            "min_width": null,
            "border": null,
            "align_items": null,
            "bottom": null,
            "_model_module": "@jupyter-widgets/base",
            "top": null,
            "grid_column": null,
            "overflow_y": null,
            "overflow_x": null,
            "grid_auto_flow": null,
            "grid_area": null,
            "grid_template_columns": null,
            "flex": null,
            "_model_name": "LayoutModel",
            "justify_items": null,
            "grid_row": null,
            "max_height": null,
            "align_content": null,
            "visibility": null,
            "align_self": null,
            "height": null,
            "min_height": null,
            "padding": null,
            "grid_auto_rows": null,
            "grid_gap": null,
            "max_width": null,
            "order": null,
            "_view_module_version": "1.2.0",
            "grid_template_areas": null,
            "object_position": null,
            "object_fit": null,
            "grid_auto_columns": null,
            "margin": null,
            "display": null,
            "left": null
          }
        }
      }
    }
  },
  "cells": [
    {
      "cell_type": "code",
      "metadata": {
        "id": "HsSEfeBou6mo",
        "colab": {
          "base_uri": "https://localhost:8080/"
        },
        "outputId": "e914a75e-feb7-4e98-a584-00fa1b0f01ef"
      },
      "source": [
        "#mount googledrive\n",
        "from google.colab import drive\n",
        "drive.mount('/content/gdrive')"
      ],
      "execution_count": 1,
      "outputs": [
        {
          "output_type": "stream",
          "text": [
            "Mounted at /content/gdrive\n"
          ],
          "name": "stdout"
        }
      ]
    },
    {
      "cell_type": "code",
      "metadata": {
        "id": "Qt6vyQTovARK"
      },
      "source": [
        "import numpy as np\n",
        "import time\n",
        "import torch\n",
        "import torch.nn as nn\n",
        "import torch.nn.functional as F\n",
        "import torch.optim as optim\n",
        "import torchvision\n",
        "from torch.utils.data.sampler import SubsetRandomSampler\n",
        "import torchvision.transforms as transforms\n",
        "import matplotlib.pyplot as plt\n",
        "from torchvision import transforms\n",
        "import os"
      ],
      "execution_count": 2,
      "outputs": []
    },
    {
      "cell_type": "code",
      "metadata": {
        "id": "htdHIdKPwlJE"
      },
      "source": [
        "feature_path = '/content/gdrive/My Drive/University/5th_Year/APS360/Project/Features/'\n",
        "checkpoint_path = '/content/gdrive/My Drive/University/5th_Year/APS360/Project/Training Model/checkpoints/sample_data/checkpoint'"
      ],
      "execution_count": 3,
      "outputs": []
    },
    {
      "cell_type": "code",
      "metadata": {
        "id": "6BHezqIn5zTf"
      },
      "source": [
        "# !unzip /content/gdrive/MyDrive/features.zip -d /content/"
      ],
      "execution_count": 4,
      "outputs": []
    },
    {
      "cell_type": "code",
      "metadata": {
        "id": "buJ5dlHo7Se2"
      },
      "source": [
        "#\"/content/Features/Train\"\n",
        "def get_features(batch_size, path_trail):\n",
        "  master_path= feature_path + path_trail\n",
        "  dataset = torchvision.datasets.DatasetFolder(master_path, loader=torch.load, extensions=('.tensor'))\n",
        "  num_workers=1\n",
        "  feature_loader = torch.utils.data.DataLoader(dataset, batch_size=batch_size, \n",
        "                                           num_workers=num_workers, shuffle=True)\n",
        "  return feature_loader"
      ],
      "execution_count": 5,
      "outputs": []
    },
    {
      "cell_type": "code",
      "metadata": {
        "colab": {
          "base_uri": "https://localhost:8080/",
          "height": 100,
          "referenced_widgets": [
            "c0b902ef5c9a428994bbb7a8363300ee",
            "8abf0f7a6c994d549aad4a69bd470905",
            "119f70c567684388854e24acf3989412",
            "90441d25210448c2ba9427c54db6bf5d",
            "b76931ed67a641448456659a02ff4e5a",
            "d16dac931db14d8ea4fea9804dd9afcb",
            "412c82434d344834a28d30bc7a44de80",
            "f8218e0f28a9445fa8b9c8228575dc9f"
          ]
        },
        "id": "u5Irty1L7pAf",
        "outputId": "cfd136c3-1c26-45af-a7d4-d4815213da5a"
      },
      "source": [
        "import torchvision.models\n",
        "alexnet = torchvision.models.alexnet(pretrained=True)\n",
        "# feature_loader =get_features(batch_size=16,  path=\"/content/Features/Train\")\n",
        "feature_loader =get_features(batch_size=16,  path_trail=\"Train\")\n",
        "for img, label in feature_loader:\n",
        "  print(label)\n",
        "  break\n"
      ],
      "execution_count": 6,
      "outputs": [
        {
          "output_type": "stream",
          "text": [
            "Downloading: \"https://download.pytorch.org/models/alexnet-owt-4df8aa71.pth\" to /root/.cache/torch/hub/checkpoints/alexnet-owt-4df8aa71.pth\n"
          ],
          "name": "stderr"
        },
        {
          "output_type": "display_data",
          "data": {
            "application/vnd.jupyter.widget-view+json": {
              "model_id": "c0b902ef5c9a428994bbb7a8363300ee",
              "version_minor": 0,
              "version_major": 2
            },
            "text/plain": [
              "HBox(children=(FloatProgress(value=0.0, max=244418560.0), HTML(value='')))"
            ]
          },
          "metadata": {
            "tags": []
          }
        },
        {
          "output_type": "stream",
          "text": [
            "\n",
            "tensor([1, 1, 0, 0, 1, 0, 0, 0, 1, 1, 0, 1, 1, 1, 0, 1])\n"
          ],
          "name": "stdout"
        }
      ]
    },
    {
      "cell_type": "code",
      "metadata": {
        "id": "p4LJuoCY8EVp"
      },
      "source": [
        "class nn_after_feature(nn.Module):\n",
        "  def __init__(self, hidden_one, hidden_two):\n",
        "      super(nn_after_feature, self).__init__()\n",
        "      self.name = \"nn_after_feature\"\n",
        "      self.fc1 = nn.Linear(256*6*6, hidden_one)\n",
        "      self.fc2 = nn.Linear(hidden_one, hidden_two)\n",
        "      self.fc3 = nn.Linear(hidden_two, 2)\n",
        "\n",
        "  def forward(self, x):\n",
        "      x = x.view(-1, 256*6*6)\n",
        "      x = F.relu(self.fc1(x))\n",
        "      x = F.relu(self.fc2(x))\n",
        "      x = self.fc3(x)\n",
        "      return x"
      ],
      "execution_count": 7,
      "outputs": []
    },
    {
      "cell_type": "code",
      "metadata": {
        "id": "4dTiSeFny2MB"
      },
      "source": [
        "#hyperparamters\n",
        "\n",
        "hidden_one = 50\n",
        "hidden_two = 100"
      ],
      "execution_count": 8,
      "outputs": []
    },
    {
      "cell_type": "code",
      "metadata": {
        "id": "E8K8eVFR8N8v",
        "colab": {
          "base_uri": "https://localhost:8080/"
        },
        "outputId": "f43d295e-cfb8-4525-c163-e3e50eb2e31e"
      },
      "source": [
        "model=nn_after_feature(hidden_one, hidden_two)\n",
        "for img, label in feature_loader:\n",
        "  out=model(img)\n",
        "  print(out)\n",
        "  break"
      ],
      "execution_count": 9,
      "outputs": [
        {
          "output_type": "stream",
          "text": [
            "tensor([[-0.0275,  0.0344],\n",
            "        [-0.0211, -0.0729],\n",
            "        [-0.0224,  0.0560],\n",
            "        [-0.0812,  0.0603],\n",
            "        [ 0.0307,  0.1259],\n",
            "        [ 0.0220,  0.0785],\n",
            "        [-0.0093,  0.1876],\n",
            "        [ 0.0067,  0.0509],\n",
            "        [-0.0227,  0.0925],\n",
            "        [-0.0040,  0.1263],\n",
            "        [-0.0310,  0.0629],\n",
            "        [-0.0329,  0.0420],\n",
            "        [ 0.0467, -0.0134],\n",
            "        [ 0.0068,  0.0591],\n",
            "        [ 0.0052,  0.1205],\n",
            "        [-0.0063,  0.1089]], grad_fn=<AddmmBackward>)\n"
          ],
          "name": "stdout"
        }
      ]
    },
    {
      "cell_type": "code",
      "metadata": {
        "colab": {
          "base_uri": "https://localhost:8080/"
        },
        "id": "SzDLORF-8dIm",
        "outputId": "86204068-b558-4ff7-f03e-d6580575cbb6"
      },
      "source": [
        "def accuracy_transfer_learining(net, loader):\n",
        "    correct = 0\n",
        "    total = 0\n",
        "    for imgs, labels in loader:\n",
        "        if torch.cuda.is_available():\n",
        "            imgs = imgs.cuda()\n",
        "            labels = labels.cuda()\n",
        "        output=net(imgs)\n",
        "        pred = output.max(1, keepdim=True)[1] #(get maximum value among the output)\n",
        "        correct += pred.eq(labels.view_as(pred)).sum().item()\n",
        "        total += imgs.shape[0]\n",
        "    return correct / total\n",
        "\n",
        "model=model.cuda()\n",
        "val_feature_loader=get_features(36, \"Valid\")\n",
        "accuracy_transfer_learining(model, val_feature_loader)"
      ],
      "execution_count": 10,
      "outputs": [
        {
          "output_type": "execute_result",
          "data": {
            "text/plain": [
              "0.7805970149253731"
            ]
          },
          "metadata": {
            "tags": []
          },
          "execution_count": 10
        }
      ]
    },
    {
      "cell_type": "code",
      "metadata": {
        "id": "xz9TBC9JCCKf"
      },
      "source": [
        "def training_transfer_learning(net, batch_size=1, learning_rate=0.001, momentum=0.9, epcho_limit=10, testing=False):\n",
        "  train_feature_loader=get_features(batch_size, \"Train\")\n",
        "  val_feature_loader=get_features(batch_size, \"Valid\")\n",
        "  criterion = nn.CrossEntropyLoss()\n",
        "  optimizer = optim.SGD(net.parameters(), lr=learning_rate, momentum=0.9)\n",
        "\n",
        "  acc_train_list=[]\n",
        "  acc_val_list=[]\n",
        "  epcho_list=[]\n",
        "  k=0\n",
        "\n",
        "  for epcho in range(epcho_limit):\n",
        "    correct=0\n",
        "    total=0\n",
        "    k=0\n",
        "    for input, label in iter(train_feature_loader):\n",
        "      if torch.cuda.is_available():\n",
        "          input = input.cuda()\n",
        "          label = label.cuda()\n",
        "      output=net(input)\n",
        "      \n",
        "      loss = criterion(output, label)\n",
        "      loss.backward()\n",
        "      optimizer.step()\n",
        "      optimizer.zero_grad()\n",
        "      pred = output.max(1, keepdim=True)[1]\n",
        "      correct += pred.eq(label.view_as(pred)).sum().item()\n",
        "      total += input.shape[0]\n",
        "      k=k+1\n",
        "      if testing and k>50:\n",
        "        break\n",
        "    \n",
        "    acc_val=accuracy_transfer_learining(net, val_feature_loader)\n",
        "    acc_train=correct/total\n",
        "    acc_train_list.append(acc_train)\n",
        "    acc_val_list.append(acc_val)\n",
        "    epcho_list.append(epcho)\n",
        "\n",
        "    if (epcho) %5==0:\n",
        "      torch.save(net.state_dict(), checkpoint_path +str(batch_size)+\"_\"+str(learning_rate)+\".pth\")\n",
        "      #torch.save(net.state_dict(), \"/content/sample_data/checkpoint\"+str(batch_size)+\"_\"+str(learning_rate)+\".pth\")\n",
        "      print(\"epcho: \"+str(epcho)+\" train acc: \"+str(acc_train)+\" val acc: \"+str(acc_val))\n",
        "  torch.save(net.state_dict(), checkpoint_path +str(batch_size)+\"_\"+str(learning_rate)+\".pth\")\n",
        "  #torch.save(net.state_dict(), \"/content/sample_data/checkpoint\"+str(batch_size)+\"_\"+str(learning_rate)+\".pth\")\n",
        "  print(\"epcho: \"+str(epcho)+\" train acc: \"+str(acc_train)+\" val acc: \"+str(acc_val))\n",
        "\n",
        "  plt.title(\"Training Curve | batch size: \"+str(batch_size)+\" lr: \"+str(learning_rate))\n",
        "  plt.plot(epcho_list, acc_train_list, label=\"Train \")\n",
        "  plt.plot(epcho_list, acc_val_list, label=\"Validation\")\n",
        "  plt.xlabel(\"Iterations\")\n",
        "  plt.ylabel(\"Training Accuracy\")\n",
        "  plt.legend(loc='best')\n",
        "  plt.show()"
      ],
      "execution_count": 11,
      "outputs": []
    },
    {
      "cell_type": "code",
      "metadata": {
        "id": "ZLcq6SfkClhl",
        "colab": {
          "base_uri": "https://localhost:8080/",
          "height": 516
        },
        "outputId": "e4a049c7-f00c-476e-abfc-ec3165c710ae"
      },
      "source": [
        "# hidden_one = 50\n",
        "# hidden_two = 100\n",
        "model=nn_after_feature(50, 20)\n",
        "model=model.cuda()\n",
        "training_transfer_learning(model, learning_rate=0.001, \n",
        "                           batch_size=32, epcho_limit=60)"
      ],
      "execution_count": 12,
      "outputs": [
        {
          "output_type": "stream",
          "text": [
            "epcho: 0 train acc: 0.9616035540511952 val acc: 0.9880597014925373\n",
            "epcho: 5 train acc: 0.9992595726676539 val acc: 0.991044776119403\n",
            "epcho: 10 train acc: 0.9998942246668077 val acc: 0.991044776119403\n",
            "epcho: 15 train acc: 0.9997884493336154 val acc: 0.991044776119403\n",
            "epcho: 20 train acc: 0.9998942246668077 val acc: 0.991044776119403\n",
            "epcho: 25 train acc: 0.9998942246668077 val acc: 0.991044776119403\n",
            "epcho: 30 train acc: 1.0 val acc: 0.991044776119403\n",
            "epcho: 35 train acc: 1.0 val acc: 0.991044776119403\n",
            "epcho: 40 train acc: 1.0 val acc: 0.991044776119403\n",
            "epcho: 45 train acc: 1.0 val acc: 0.991044776119403\n",
            "epcho: 50 train acc: 1.0 val acc: 0.991044776119403\n",
            "epcho: 55 train acc: 1.0 val acc: 0.991044776119403\n",
            "epcho: 59 train acc: 1.0 val acc: 0.991044776119403\n"
          ],
          "name": "stdout"
        },
        {
          "output_type": "display_data",
          "data": {
            "image/png": "[encoded data removed]",
            "text/plain": [
              "<Figure size 432x288 with 1 Axes>"
            ]
          },
          "metadata": {
            "tags": [],
            "needs_background": "light"
          }
        }
      ]
    },
    {
      "cell_type": "code",
      "metadata": {
        "colab": {
          "base_uri": "https://localhost:8080/"
        },
        "id": "Gv0PZFY5cAfZ",
        "outputId": "a03dcbee-b4c6-44a8-ebbf-15dc2a4873b8"
      },
      "source": [
        "#getting test accuracy for model using AlexNet features \n",
        "\n",
        "batch_size = 32\n",
        "test_feature_loader=get_features(batch_size, \"Test\")\n",
        "print(\"Final test accuracy:\", accuracy_transfer_learining(\n",
        "    model, test_feature_loader))"
      ],
      "execution_count": 14,
      "outputs": [
        {
          "output_type": "stream",
          "text": [
            "Final test accuracy: 0.9932203389830508\n"
          ],
          "name": "stdout"
        }
      ]
    }
  ]
}